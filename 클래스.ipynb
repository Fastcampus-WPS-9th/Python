{
 "cells": [
  {
   "cell_type": "markdown",
   "metadata": {},
   "source": [
    "# Class"
   ]
  },
  {
   "cell_type": "code",
   "execution_count": 75,
   "metadata": {},
   "outputs": [],
   "source": [
    "class Shop:\n",
    "    description = 'Python Shop Class'\n",
    "    count = 0\n",
    "    shop_list = []\n",
    "    \n",
    "    # 인스턴스 메서드\n",
    "    # 첫 번째 매개변수로 항상 인스턴스 자신이 전달된다\n",
    "    # 인스턴스가 전달되는 첫 번째 매개변수의 이름은 관용적으로 'self'를 사용\n",
    "    def __init__(self, name):\n",
    "        self.name = name\n",
    "        Shop.count += 1\n",
    "#         Shop.shop_list.append(self)\n",
    "        self.__class__.shop_list.append(self)\n",
    "        \n",
    "    def __repr__(self):\n",
    "        return f'상점 ({self.name})'\n",
    "    \n",
    "    def show_info(self):\n",
    "        return f'상점정보 ({self.name})'\n",
    "    \n",
    "    # 클래스 메서드\n",
    "    # 첫 번째 매개변수로 항상 클래스 정의 자체가 전달된다\n",
    "    # 클래스 정의가 전달되는 첫 번째 매개변수의 이름은 관용적으로 'cls'를 사용\n",
    "    @classmethod\n",
    "    def get_shop_count(cls):\n",
    "#         return Shop.count\n",
    "        return cls.count\n",
    "    \n",
    "    @classmethod\n",
    "    def get_last_created_shop(cls):\n",
    "        return cls.shop_list[-1]"
   ]
  },
  {
   "cell_type": "markdown",
   "metadata": {},
   "source": [
    "- 클래스명을 호출 ()하는 것은 클래스 생성자 메서드를 실행한다는 의미\n",
    "- 클래스 생성자 메서드는 매직 메서드 `__init__`에 정의된다\n",
    "- 클래스 생성자의 호출 결과는 해당 클래스의 인스턴스\n",
    "- 인스턴스는 특정 클래스형(타입)의 객체를 말함"
   ]
  },
  {
   "cell_type": "code",
   "execution_count": 76,
   "metadata": {},
   "outputs": [],
   "source": [
    "subway = Shop('서브웨이')\n",
    "lotteria = Shop('롯데리아')"
   ]
  },
  {
   "cell_type": "code",
   "execution_count": 77,
   "metadata": {},
   "outputs": [
    {
     "data": {
      "text/plain": [
       "2"
      ]
     },
     "execution_count": 77,
     "metadata": {},
     "output_type": "execute_result"
    }
   ],
   "source": [
    "Shop.get_shop_count()"
   ]
  },
  {
   "cell_type": "code",
   "execution_count": 78,
   "metadata": {},
   "outputs": [
    {
     "data": {
      "text/plain": [
       "2"
      ]
     },
     "execution_count": 78,
     "metadata": {},
     "output_type": "execute_result"
    }
   ],
   "source": [
    "subway.get_shop_count()"
   ]
  },
  {
   "cell_type": "code",
   "execution_count": 89,
   "metadata": {},
   "outputs": [],
   "source": [
    "class Shop:\n",
    "    def __init__(self, name, shop_type, address):\n",
    "        self.name = name\n",
    "        self.shop_type = shop_type\n",
    "        self.address = address\n",
    "    \n",
    "    def show_info(self):\n",
    "        print(\n",
    "            f'상점정보 ({self.name})\\n'\n",
    "            f'  유형: {self.shop_type}\\n'\n",
    "            f'  주소: {self.address}'\n",
    "        )\n",
    "        \n",
    "    def change_type(self, new_shop_type):\n",
    "        self.shop_type = new_shop_type"
   ]
  },
  {
   "cell_type": "code",
   "execution_count": 90,
   "metadata": {},
   "outputs": [],
   "source": [
    "subway = Shop('서브웨이', '샌드위치가게', '성수역 옆에')"
   ]
  },
  {
   "cell_type": "code",
   "execution_count": 91,
   "metadata": {},
   "outputs": [
    {
     "name": "stdout",
     "output_type": "stream",
     "text": [
      "상점정보 (서브웨이)\n",
      "  유형: 샌드위치가게\n",
      "  주소: 성수역 옆에\n"
     ]
    }
   ],
   "source": [
    "subway.show_info()"
   ]
  },
  {
   "cell_type": "code",
   "execution_count": 92,
   "metadata": {},
   "outputs": [
    {
     "name": "stdout",
     "output_type": "stream",
     "text": [
      "상점정보 (서브웨이)\n",
      "  유형: 패스트푸드\n",
      "  주소: 성수역 옆에\n"
     ]
    }
   ],
   "source": [
    "subway.change_type('패스트푸드')\n",
    "subway.show_info()"
   ]
  },
  {
   "cell_type": "code",
   "execution_count": 93,
   "metadata": {},
   "outputs": [
    {
     "name": "stdout",
     "output_type": "stream",
     "text": [
      "상점정보 (서브웨이)\n",
      "  유형: 다시 샌드위치 가게\n",
      "  주소: 성수역 옆에\n"
     ]
    }
   ],
   "source": [
    "subway.shop_type = '다시 샌드위치 가게'\n",
    "subway.show_info()"
   ]
  },
  {
   "cell_type": "markdown",
   "metadata": {},
   "source": [
    "## 속성 접근 지정자의 종류\n",
    "\n",
    "- private: 정의된 클래스의 내부에서만 변경 및 사용가능\n",
    "- protected: 정의된 클래스 및 상속받은 클래스의 내부에서만 변경 및 사용 가능\n",
    "- public: 클래스 외부에서도 변경 및 사용 가능"
   ]
  },
  {
   "cell_type": "code",
   "execution_count": 94,
   "metadata": {},
   "outputs": [],
   "source": [
    "class Shop:\n",
    "    def __init__(self, name, shop_type, address):\n",
    "        self.name = name\n",
    "        # self.__shop_type은 인스턴스의 속성명\n",
    "        # 우측의 shop_type은 초기화 메서드의 매개변수명\n",
    "        self.__shop_type = shop_type\n",
    "        self.address = address\n",
    "    \n",
    "    def show_info(self):\n",
    "        print(\n",
    "            f'상점정보 ({self.name})\\n'\n",
    "            f'  유형: {self.__shop_type}\\n'\n",
    "            f'  주소: {self.address}'\n",
    "        )\n",
    "        \n",
    "    def change_type(self, new_shop_type):\n",
    "        self.__shop_type = new_shop_type"
   ]
  },
  {
   "cell_type": "code",
   "execution_count": 96,
   "metadata": {},
   "outputs": [],
   "source": [
    "subway = Shop('서브웨이', '샌드위치 가게', '성수역 옆에')"
   ]
  },
  {
   "cell_type": "code",
   "execution_count": 97,
   "metadata": {},
   "outputs": [
    {
     "ename": "AttributeError",
     "evalue": "'Shop' object has no attribute 'shop_type'",
     "output_type": "error",
     "traceback": [
      "\u001b[0;31m---------------------------------------------------------------------------\u001b[0m",
      "\u001b[0;31mAttributeError\u001b[0m                            Traceback (most recent call last)",
      "\u001b[0;32m<ipython-input-97-5f57a4281186>\u001b[0m in \u001b[0;36m<module>\u001b[0;34m()\u001b[0m\n\u001b[0;32m----> 1\u001b[0;31m \u001b[0msubway\u001b[0m\u001b[0;34m.\u001b[0m\u001b[0mshop_type\u001b[0m\u001b[0;34m\u001b[0m\u001b[0m\n\u001b[0m",
      "\u001b[0;31mAttributeError\u001b[0m: 'Shop' object has no attribute 'shop_type'"
     ]
    }
   ],
   "source": [
    "subway.shop_type"
   ]
  },
  {
   "cell_type": "code",
   "execution_count": 101,
   "metadata": {},
   "outputs": [
    {
     "ename": "AttributeError",
     "evalue": "'Shop' object has no attribute '__shop_type'",
     "output_type": "error",
     "traceback": [
      "\u001b[0;31m---------------------------------------------------------------------------\u001b[0m",
      "\u001b[0;31mAttributeError\u001b[0m                            Traceback (most recent call last)",
      "\u001b[0;32m<ipython-input-101-69c5e18608c7>\u001b[0m in \u001b[0;36m<module>\u001b[0;34m()\u001b[0m\n\u001b[0;32m----> 1\u001b[0;31m \u001b[0msubway\u001b[0m\u001b[0;34m.\u001b[0m\u001b[0m__shop_type\u001b[0m\u001b[0;34m\u001b[0m\u001b[0m\n\u001b[0m",
      "\u001b[0;31mAttributeError\u001b[0m: 'Shop' object has no attribute '__shop_type'"
     ]
    }
   ],
   "source": [
    "subway.__shop_type"
   ]
  },
  {
   "cell_type": "code",
   "execution_count": 99,
   "metadata": {},
   "outputs": [
    {
     "name": "stdout",
     "output_type": "stream",
     "text": [
      "상점정보 (서브웨이)\n",
      "  유형: 샌드위치 가게\n",
      "  주소: 성수역 옆에\n"
     ]
    }
   ],
   "source": [
    "subway.show_info()"
   ]
  },
  {
   "cell_type": "code",
   "execution_count": 100,
   "metadata": {},
   "outputs": [
    {
     "name": "stdout",
     "output_type": "stream",
     "text": [
      "상점정보 (서브웨이)\n",
      "  유형: 패스트푸드\n",
      "  주소: 성수역 옆에\n"
     ]
    }
   ],
   "source": [
    "subway.change_type('패스트푸드')\n",
    "subway.show_info()"
   ]
  },
  {
   "cell_type": "code",
   "execution_count": 103,
   "metadata": {},
   "outputs": [
    {
     "name": "stdout",
     "output_type": "stream",
     "text": [
      "상점정보 (서브웨이)\n",
      "  유형: 패스트푸드\n",
      "  주소: 성수역 옆에\n"
     ]
    }
   ],
   "source": [
    "subway.__shop_type = '다시 샌드위치'\n",
    "subway.show_info()"
   ]
  },
  {
   "cell_type": "code",
   "execution_count": 104,
   "metadata": {},
   "outputs": [
    {
     "data": {
      "text/plain": [
       "['_Shop__shop_type',\n",
       " '__class__',\n",
       " '__delattr__',\n",
       " '__dict__',\n",
       " '__dir__',\n",
       " '__doc__',\n",
       " '__eq__',\n",
       " '__format__',\n",
       " '__ge__',\n",
       " '__getattribute__',\n",
       " '__gt__',\n",
       " '__hash__',\n",
       " '__init__',\n",
       " '__init_subclass__',\n",
       " '__le__',\n",
       " '__lt__',\n",
       " '__module__',\n",
       " '__ne__',\n",
       " '__new__',\n",
       " '__reduce__',\n",
       " '__reduce_ex__',\n",
       " '__repr__',\n",
       " '__setattr__',\n",
       " '__shop_type',\n",
       " '__sizeof__',\n",
       " '__str__',\n",
       " '__subclasshook__',\n",
       " '__weakref__',\n",
       " 'address',\n",
       " 'change_type',\n",
       " 'name',\n",
       " 'show_info']"
      ]
     },
     "execution_count": 104,
     "metadata": {},
     "output_type": "execute_result"
    }
   ],
   "source": [
    "dir(subway)"
   ]
  },
  {
   "cell_type": "code",
   "execution_count": 105,
   "metadata": {},
   "outputs": [
    {
     "data": {
      "text/plain": [
       "'다시 샌드위치'"
      ]
     },
     "execution_count": 105,
     "metadata": {},
     "output_type": "execute_result"
    }
   ],
   "source": [
    "subway.__shop_type"
   ]
  },
  {
   "cell_type": "code",
   "execution_count": 106,
   "metadata": {},
   "outputs": [
    {
     "name": "stdout",
     "output_type": "stream",
     "text": [
      "상점정보 (서브웨이)\n",
      "  유형: 패스트푸드\n",
      "  주소: 성수역 옆에\n"
     ]
    }
   ],
   "source": [
    "subway.show_info()"
   ]
  },
  {
   "cell_type": "code",
   "execution_count": 107,
   "metadata": {},
   "outputs": [
    {
     "data": {
      "text/plain": [
       "'패스트푸드'"
      ]
     },
     "execution_count": 107,
     "metadata": {},
     "output_type": "execute_result"
    }
   ],
   "source": [
    "subway._Shop__shop_type"
   ]
  },
  {
   "cell_type": "code",
   "execution_count": 108,
   "metadata": {},
   "outputs": [],
   "source": [
    "subway._Shop__shop_type = '이렇게 바꿀수있음'"
   ]
  },
  {
   "cell_type": "code",
   "execution_count": 109,
   "metadata": {},
   "outputs": [
    {
     "name": "stdout",
     "output_type": "stream",
     "text": [
      "상점정보 (서브웨이)\n",
      "  유형: 이렇게 바꿀수있음\n",
      "  주소: 성수역 옆에\n"
     ]
    }
   ],
   "source": [
    "subway.show_info()"
   ]
  },
  {
   "cell_type": "code",
   "execution_count": 110,
   "metadata": {},
   "outputs": [
    {
     "name": "stdout",
     "output_type": "stream",
     "text": [
      "서브웨이\n"
     ]
    }
   ],
   "source": [
    "name = subway.name\n",
    "print(name)"
   ]
  },
  {
   "cell_type": "code",
   "execution_count": 121,
   "metadata": {},
   "outputs": [],
   "source": [
    "class Shop:\n",
    "    SHOP_TYPE_LIST = ['샌드위치', '패스트푸드']\n",
    "    \n",
    "    def __init__(self, name, shop_type, address):\n",
    "        self.name = name\n",
    "        self.__shop_type = shop_type\n",
    "        self.address = address\n",
    "    \n",
    "    def show_info(self):\n",
    "        print(\n",
    "            f'상점정보 ({self.name})\\n'\n",
    "            f'  유형: {self.__shop_type}\\n'\n",
    "            f'  주소: {self.address}'\n",
    "        )\n",
    "        \n",
    "    # 특정 private속성에 대해 getter함수만 존재할 경우\n",
    "    # 해당 속성이 '읽기전용'이 됨\n",
    "    def get_shop_type(self):\n",
    "        return self.__shop_type\n",
    "    \n",
    "    # setter함수\n",
    "    def set_shop_type(self, new_shop_type):\n",
    "        if new_shop_type in self.SHOP_TYPE_LIST:            \n",
    "            self.__shop_type = new_shop_type\n",
    "        else:\n",
    "            print('상점 유형은 {} 중 하나여야 합니다'.format(\n",
    "                ', '.join(self.SHOP_TYPE_LIST),\n",
    "            ))"
   ]
  },
  {
   "cell_type": "code",
   "execution_count": 122,
   "metadata": {},
   "outputs": [
    {
     "data": {
      "text/plain": [
       "'샌드위치'"
      ]
     },
     "execution_count": 122,
     "metadata": {},
     "output_type": "execute_result"
    }
   ],
   "source": [
    "subway = Shop('서브웨이', '샌드위치', '성수역')\n",
    "subway.get_shop_type()"
   ]
  },
  {
   "cell_type": "code",
   "execution_count": 123,
   "metadata": {},
   "outputs": [
    {
     "data": {
      "text/plain": [
       "'패스트푸드'"
      ]
     },
     "execution_count": 123,
     "metadata": {},
     "output_type": "execute_result"
    }
   ],
   "source": [
    "subway.set_shop_type('패스트푸드')\n",
    "subway.get_shop_type()"
   ]
  },
  {
   "cell_type": "code",
   "execution_count": 124,
   "metadata": {},
   "outputs": [
    {
     "name": "stdout",
     "output_type": "stream",
     "text": [
      "상점 유형은 샌드위치, 패스트푸드 중 하나여야 합니다\n"
     ]
    },
    {
     "data": {
      "text/plain": [
       "'패스트푸드'"
      ]
     },
     "execution_count": 124,
     "metadata": {},
     "output_type": "execute_result"
    }
   ],
   "source": [
    "subway.set_shop_type('PC방')\n",
    "subway.get_shop_type()"
   ]
  },
  {
   "cell_type": "code",
   "execution_count": null,
   "metadata": {},
   "outputs": [],
   "source": []
  }
 ],
 "metadata": {
  "kernelspec": {
   "display_name": "Python 3",
   "language": "python",
   "name": "python3"
  },
  "language_info": {
   "codemirror_mode": {
    "name": "ipython",
    "version": 3
   },
   "file_extension": ".py",
   "mimetype": "text/x-python",
   "name": "python",
   "nbconvert_exporter": "python",
   "pygments_lexer": "ipython3",
   "version": "3.6.6"
  }
 },
 "nbformat": 4,
 "nbformat_minor": 2
}
