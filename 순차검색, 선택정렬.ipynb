{
 "cells": [
  {
   "cell_type": "code",
   "execution_count": 7,
   "metadata": {},
   "outputs": [
    {
     "name": "stdout",
     "output_type": "stream",
     "text": [
      "3\n",
      "-1\n"
     ]
    }
   ],
   "source": [
    "sample = 'ABCDE'\n",
    "\n",
    "def sequential_search(string, key):\n",
    "    index = 0\n",
    "    # 1string(문자열)을 각 문자단위로 순회\n",
    "    while index < len(string):\n",
    "        # 현재 순회중인 문자와 매개변수의 'key'가 같은 값인지 확인\n",
    "        if string[index] == key:\n",
    "            # 같다면 기억중이던 loop count(index)를 리턴\n",
    "            return index\n",
    "        # 다음 순회시에 참조할 문자열의 index를 1 증가시킴\n",
    "        index += 1\n",
    "\n",
    "    # 끝까지 순회해서 while문을 나오면, 찾지 못했다는 의미이므로 -1을 리턴\n",
    "    return -1\n",
    "\n",
    "\n",
    "result1 = sequential_search('ABCDE', 'D')\n",
    "result2 = sequential_search('ABCFSEFSDFASDFASFE', 'z')\n",
    "print(result1)\n",
    "print(result2)"
   ]
  },
  {
   "cell_type": "code",
   "execution_count": null,
   "metadata": {},
   "outputs": [],
   "source": [
    "# 길이가 10인 리스트 정렬 시\n",
    "[9, 1, 6, 8, 4, 3, 2, 0, 5, 7]\n",
    "# index가 0인 루프\n",
    "#  가장 작은 값을 찾는다 (0)\n",
    "#  index 0번 요소와 자리를 바꿈\n",
    "\n",
    "[0, 1, 6, 8, 4, 3, 2, 9, 5, 7]\n",
    "# index1가 1인 루프\n",
    "#  가장 작은 값을 찾는다 (1)\n",
    "#  index 1번 요소와 자리를 바꿈\n",
    "\n",
    "[0, 1, 2, 8, 4, 3, 6, 9, 5, 7]\n",
    "# index가 2인 루프\n",
    "#  가장 작은 값을 찾는다 (2)\n",
    "#  index 2번 요소와 자리를 바꿈\n",
    "# ...\n",
    "\n",
    "\n",
    "[0, 1, 2, 3, 4, 8, 6, 9, 5, 7]\n",
    "[0, 1, 2, 3, 4, 8, 6, 9, 5, 7]\n",
    "[0, 1, 2, 3, 4, 5, 6, 9, 8, 7]\n",
    "[0, 1, 2, 3, 4, 5, 6, 9, 8, 7]\n",
    "[0, 1, 2, 3, 4, 5, 6, 7, 8, 9]\n",
    "# 8번째 값 바꾸기...\n",
    "[0, 1, 2, 3, 4, 5, 6, 7, 8, 9]\n",
    "\n",
    "# 길이가 10인데, 9번만 바꾸면 됨\n",
    "\n",
    "\n",
    "# min\n",
    "# max\n",
    "# index"
   ]
  },
  {
   "cell_type": "code",
   "execution_count": 8,
   "metadata": {},
   "outputs": [],
   "source": [
    "sample = [9, 1, 6, 8, 4, 3, 2, 0, 5, 7]"
   ]
  },
  {
   "cell_type": "code",
   "execution_count": 42,
   "metadata": {},
   "outputs": [
    {
     "name": "stdout",
     "output_type": "stream",
     "text": [
      "[0, 1, 2, 3, 4, 5, 6, 7, 8, 9]\n"
     ]
    }
   ],
   "source": [
    "# for문 작성\n",
    "# 매 루프마다 print실행\n",
    "# [9, 1, 6, 8, 4, 3, 2, 0, 5, 7]\n",
    "# [1, 6, 8, 4, 3, 2, 0, 5, 7]\n",
    "# [6, 8, 4, 3, 2, 0, 5, 7]\n",
    "# [8, 4, 3, 2, 0, 5, 7]\n",
    "# ...\n",
    "# [5, 7]\n",
    "#  총 9번 실행  (길이 - 1번)\n",
    "for x in range(len(sample) - 1):\n",
    "    # x: 외부 loop의 index (리스트 길이 - 1번 만큼 순회중인 index)\n",
    "    # 내부에서 다시 새로운 for-loop를 진행\n",
    "    # (x부터 리스트 끝까지)\n",
    "    #  해당 내부loop에서의 최소값과 그 index를 기억\n",
    "    # loop가 끝난 후, 최소값을 가진 index와 x index의 값들을 서로 교환\n",
    "    \n",
    "    # x번째 loop에서의 최소값을 가진 index를 저장할 변수\n",
    "    cur_min_index = x\n",
    "    for y in range(x, len(sample)):\n",
    "        # y: 내부 loop의 index (x부터 리스트 끝까지 순회중인 index)\n",
    "        # 만약 저장해 두었던 index에 해당하는 값보다 현재 값이 더 작다면\n",
    "        # cur_min_index값을 현재 index로 대체\n",
    "        if sample[cur_min_index] > sample[y]:\n",
    "            cur_min_index = y\n",
    "    print(f'{x}번째 loop, 현재    리스트 상황: {sample}')\n",
    "    print(f'{x}번째 loop의 최소 index는 {cur_min_index}, 값은: {sample[cur_min_index]}')\n",
    "    sample[cur_min_index], sample[x] = sample[x], sample[cur_min_index]\n",
    "    print(f'{x}번째 loop, 교체후 리스트 상황: {sample}')\n",
    "    print()\n",
    "\n",
    "\n",
    "sample = [9, 1, 6, 8, 4, 3, 2, 0, 5, 7]\n",
    "len_list = len(sample)\n",
    "\n",
    "for x in range(len_list - 1):\n",
    "    cur_min_index = x\n",
    "    for index, value in enumerate(sample[x:], start=x):\n",
    "        if value < sample[cur_min_index]:\n",
    "            cur_min_index = index\n",
    "    sample[cur_min_index], sample[x] = sample[x], sample[cur_min_index]\n",
    "\n",
    "print(sample)\n",
    "    "
   ]
  },
  {
   "cell_type": "code",
   "execution_count": null,
   "metadata": {},
   "outputs": [],
   "source": []
  }
 ],
 "metadata": {
  "kernelspec": {
   "display_name": "Python 3",
   "language": "python",
   "name": "python3"
  },
  "language_info": {
   "codemirror_mode": {
    "name": "ipython",
    "version": 3
   },
   "file_extension": ".py",
   "mimetype": "text/x-python",
   "name": "python",
   "nbconvert_exporter": "python",
   "pygments_lexer": "ipython3",
   "version": "3.6.6"
  }
 },
 "nbformat": 4,
 "nbformat_minor": 2
}
